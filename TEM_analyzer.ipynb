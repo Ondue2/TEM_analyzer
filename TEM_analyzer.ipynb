{
 "cells": [
  {
   "cell_type": "markdown",
   "id": "db97124f-ec59-4213-b4f6-1ad4c6f52ba1",
   "metadata": {
    "jp-MarkdownHeadingCollapsed": true
   },
   "source": [
    "## Import modules"
   ]
  },
  {
   "cell_type": "code",
   "execution_count": null,
   "id": "3a02c6aa-d94a-4314-a774-2577c3473eae",
   "metadata": {},
   "outputs": [],
   "source": [
    "import hyperspy.api as hs   # To import dm4 TEM image (modify it to what is required)\n",
    "import copy\n",
    "\n",
    "import numpy as np\n",
    "import matplotlib.pyplot as plt\n",
    "\n",
    "import tools\n",
    "import Gaussian_functions as gf\n",
    "import optimization\n",
    "\n",
    "import tensorflow as tf\n",
    "\n",
    "#%matplotlib widget"
   ]
  },
  {
   "cell_type": "markdown",
   "id": "5753a68d-9bdb-40e5-acec-bcf053ab95b3",
   "metadata": {
    "jp-MarkdownHeadingCollapsed": true
   },
   "source": [
    "## Import TEM images"
   ]
  },
  {
   "cell_type": "code",
   "execution_count": null,
   "id": "f227ba1a-de12-409f-abb2-402f90cec572",
   "metadata": {},
   "outputs": [],
   "source": [
    "base_dir = \"data/\"                  # This will be the base directory for all files being saved.\n",
    "file = \"Sum (10 frames) from  (Auto Aligned) d series.dm4\"                    # TEM image File name\n",
    "\n",
    "\n",
    "# Operation code -----------------------------------------------------------------------------------------------\n",
    "\n",
    "TEM = hs.load(base_dir +  file)       # Laoding dm4 TEM image (modify it to what required)\n",
    "TEM.plot()\n",
    "TEM_array = TEM.data                  # Making an array from the TEM image (modify it to what required)"
   ]
  },
  {
   "cell_type": "markdown",
   "id": "50fb5311-f0fb-46f5-81ab-55310621f045",
   "metadata": {
    "jp-MarkdownHeadingCollapsed": true
   },
   "source": [
    "## Image rotation, crop, normalization, noise threshold"
   ]
  },
  {
   "cell_type": "code",
   "execution_count": null,
   "id": "f0907ad6-e3f9-48c0-b22c-c1fcb5651dee",
   "metadata": {},
   "outputs": [],
   "source": [
    "rotate_angle = 0.55    # rotate image along the counter-clockwise direction (unit: deg)\n",
    "\n",
    "# Boundary information for cropping\n",
    "\n",
    "up = 138\n",
    "down = 565\n",
    "left = 99\n",
    "right = 566\n",
    "line_width = 1\n",
    "\n",
    "\n",
    "low_intensity_threshold = 0.15             # Remove all signals weaker than this threshold (ratio to maximum)\n",
    "normalized_maximum_intensity = 10          # Set the signal maximum to this value. \n",
    "\n",
    "# Operation code -----------------------------------------------------------------------------------------------\n",
    "\n",
    "# \"im_analzyed\" is the processed 2d array of the image and im_shape is the shape of the image.\n",
    "# \"tf_im_analyzed\" is the tensor version of \"im_analzyed\".\n",
    "\n",
    "im_analyzed, tf_im_analyzed = tools.image_preprocess(TEM_array, rotate_angle, \n",
    "                                                     normalized_maximum_intensity, low_intensity_threshold, up, down, left, right, line_width)\n",
    "im_shape = im_analyzed.shape"
   ]
  },
  {
   "cell_type": "markdown",
   "id": "4fc0bf10-1f69-4540-b4a4-5405813ff399",
   "metadata": {
    "jp-MarkdownHeadingCollapsed": true
   },
   "source": [
    "## Lattice positions generator and intensity investigator"
   ]
  },
  {
   "cell_type": "code",
   "execution_count": null,
   "id": "718cc7e9-e5c7-4a1c-b4d9-c73c08ce27e4",
   "metadata": {},
   "outputs": [],
   "source": [
    "# Lottice information\n",
    "\n",
    "x = 4.0693*np.sqrt(3)/2*0.985  # lateral lattice constant with the unit of angstrom\n",
    "y = 16.15                      # vertical lattice constant with the unit of angstrom\n",
    "x_off = 5                      # x_offset for the top left lattice point in pixels\n",
    "y_off = 3                      # y_offset for the top left lattice point in pixels\n",
    "len_pix = 0.152                # length of one pixel in angstrom\n",
    "row = 4                        # number of lattice rows to be analyzed\n",
    "col = 20                       # number of lattice columns to be analyzed\n",
    "sliding = [2, 1, 2]            # Relative x position difference between the rows with respect to the first row\n",
    "                               # The number of elements should be row - 1\n",
    "\n",
    "\n",
    "# Operation code -----------------------------------------------------------------------------------------------\n",
    "\n",
    "# \"sum_image\" is the 2d array of the average unit cell image. \"lattices\" is the lattice points with the shape (n, 2), \n",
    "# where n is the number of lattice points and 2 is for the x and y coordinates. \n",
    "# \"lattice_num\" is the number of lattice points: n. \n",
    "\n",
    "sum_image, lattices, lattice_num = tools.lattice_gen_check(x, y, x_off, y_off, len_pix, row, col, sliding, im_analyzed)"
   ]
  },
  {
   "cell_type": "markdown",
   "id": "4a413f1a-8d30-4806-8eb0-9d742d280ed2",
   "metadata": {
    "jp-MarkdownHeadingCollapsed": true
   },
   "source": [
    "## Atomic positions generator"
   ]
  },
  {
   "cell_type": "code",
   "execution_count": null,
   "id": "36132f81-755e-49c7-90b2-ad0886101283",
   "metadata": {},
   "outputs": [],
   "source": [
    "# Put atomic positions [x, y] in a unit cell with respect to the lattice point (ratio in the lattice constants).\n",
    "\n",
    "Atom_positions_dic = {\"Te\" : [[1/3, 0.09073], [1/3, 0.5 - 0.09073], [2/3, 0.5 + 0.09073], [2/3, 1 - 0.09073]], \n",
    "                      \"Fe1\" : [[1,  0.17728], [1, 0.5 - 0.16728], [0, 0.5 + 0.17728], [0, 1 - 0.16728]], \n",
    "                      \"Fe2\" : [[1/3, 0.25], [2/3, 0.75]],\n",
    "                      \"Ga\" : [[2/3, 0.25], [1/3, 0.75]]}\n",
    "\n",
    "\n",
    "# Operation code -----------------------------------------------------------------------------------------------\n",
    "\n",
    "# \"posit_pix\" is the list of relative atomic positions with the unit of pixel. \n",
    "# The length of \"posit_pix\" is the number of atom types.\n",
    "# Each element of \"posit_pix\" is an array with the shape of (n, 2), where n is the number of the coordinates of the atom type, \n",
    "# and 2 is for x and y coordinates.\n",
    "# \"atom_num_list\" is the list whose elements are the numbers of coordinates of each atom type.\n",
    "\n",
    "posit_pix, atom_num_list = tools.atom_positions_iu_gen_check(Atom_positions_dic, sum_image, x, y, len_pix)\n"
   ]
  },
  {
   "cell_type": "markdown",
   "id": "3dc12fed-f4c0-4282-ad18-4f7414ce6754",
   "metadata": {
    "jp-MarkdownHeadingCollapsed": true
   },
   "source": [
    "## Positions generator"
   ]
  },
  {
   "cell_type": "code",
   "execution_count": null,
   "id": "bf348e06-479d-4a5d-9a41-a6d3981ccc3d",
   "metadata": {},
   "outputs": [],
   "source": [
    "# Run this code to see that the positions are well generated.\n",
    "\n",
    "# \"positions\" is the array with the shape of (2, n), where 2 is for x and y coordinates, and n is the number of total atoms analyzed.\n",
    "# \"atom_resolved_positions\" is the list whose elements are the positions of each atom type.\n",
    "\n",
    "positions = tools.position_gen(lattices, posit_pix)\n",
    "atom_resolved_positions = tools.unpack_atom_type(positions,  lattice_num, atom_num_list)\n",
    "\n",
    "plt.imshow(im_analyzed, cmap = \"gray\")\n",
    "plt.title(\"Positions look vaild?\")\n",
    "\n",
    "for atom in range(len(atom_num_list)):\n",
    "    \n",
    "    plt.scatter(atom_resolved_positions[atom][0,:], atom_resolved_positions[atom][1,:], s = 15)\n"
   ]
  },
  {
   "cell_type": "markdown",
   "id": "42f0b2da-6552-4939-8f57-4385dc70fb64",
   "metadata": {
    "jp-MarkdownHeadingCollapsed": true
   },
   "source": [
    "## Parameter initialization for lattice optimization"
   ]
  },
  {
   "cell_type": "code",
   "execution_count": null,
   "id": "c53c2835-158e-4e67-838e-834836131ca8",
   "metadata": {},
   "outputs": [],
   "source": [
    "# Each element in \"pad_size_list\", \"amplitude_pri\", and \"width_pri\" is corresponded to the atom type in \n",
    "# \"Atom_positions_dic\" in the same order\n",
    "\n",
    "pad_size_list = [15, 10, 10, 10]     # If an atomic position with type i is (x, y), then the area of (x - pad_size_list[i], x + pad_size_list[i])\n",
    "                                     # for x coordinate and (y - pad_size_list[i], y + pad_size_list[i]) for y coordinate will be subjected to be\n",
    "                                     # fitted with a Gaussian function.\n",
    "                                     \n",
    "                                     \n",
    "amplitude_pri = [8.5, 4, 4, 5]       # Initial guess of Gaussian amplitude (use intensity investigator for estimation)\n",
    "width_pri = [4, 3, 3, 3]             # Initial guess of Gaussian width in pixels (use intensity investigator for estimation)\n",
    "\n",
    "x_update_step = 4e-3             # This is the update step of the x lattice constant in the unit of angstrom. \n",
    "y_update_step = 0.015            # This is the update step of the y lattice constant in the unit of angstrom. \n",
    "\n",
    "loss_array = []                  # Here, loss is RMS error between the TEM image and the simulation generated by Gaussian function fitting.\n",
    "                                 # History will be accumulated and saved.\n",
    "\n",
    "# Operation code -----------------------------------------------------------------------------------------------\n",
    "\n",
    "x_l, y_l, x_off_l, y_off_l, sliding_l, posit_pix_l, tf_amplitude_init, tf_width_init, positions, positions_pri = \\\n",
    "tools.lattice_optimization_init(x, y, x_off, y_off, sliding, posit_pix, amplitude_pri, width_pri, row, col, len_pix)"
   ]
  },
  {
   "cell_type": "markdown",
   "id": "0dd4eaee-7db8-469c-975d-f48e787869da",
   "metadata": {
    "jp-MarkdownHeadingCollapsed": true
   },
   "source": [
    "## Lattice optimization"
   ]
  },
  {
   "cell_type": "code",
   "execution_count": null,
   "id": "fce97300-b409-45b2-93f8-4a32996d9700",
   "metadata": {},
   "outputs": [],
   "source": [
    "# Lattice constant (x and y), offset (x_off and y_off), slinding, positions in unit cell (posit_pix), \n",
    "# Gaussian amplitude for each atom type (amplitude_pri), and Gaussian width for each atom type (width_pri) will be optimized\n",
    "\n",
    "# Optimization will produce new optimized values of x_l, y_l, x_off_l, y_off_l, sliding_l, posit_pix_l, tf_amplitude_init, tf_width_init.\n",
    "           \n",
    "# Optimized parameters will be saved below\n",
    "\n",
    "lattice_atom_positions_file_name = \"lattice_atom_positions\"       # Optimized x_l, y_l, x_off_l, y_off_l, sliding_l, posit_pix_l (.npy)\n",
    "params_init_file_name = \"params_init\"                             # Optimized Gaussian parameters will be saved here (.npy)\n",
    "\n",
    "every_positions_init_file_name = \"every_positions_init\"           # Optimized positions for all atoms (.npy)\n",
    "every_params_init_file_name = \"every_params_init\"                 # Optimized Gaussian parameters for all atoms (.npy)\n",
    "\n",
    "loss_file_name = \"loss\"                                           # loss will be saved here (.npy)\n",
    "\n",
    "\n",
    "num_epoch = 1                      # Number of sets of optimization \n",
    "num_amp = 1                        # Number of amplitude and width optimizations in a set\n",
    "num_posit = 1                      # Number of atomic positions optimization in a set\n",
    "\n",
    "print_num = 1                      # Number of sets to print loss out\n",
    "\n",
    "learning_rate = 0.01                \n",
    "\n",
    "lattices_update = True             # Lattice_update updates lattice information: lattice constants, sliding. \n",
    "positions_update = False           # Positions_update updates atomic positions with respect to lattice point: poxit_pix\n",
    "                                   # Fist, optimize lattice with positions_update False, and vice versa. Finally, run with both True.\n",
    "\n",
    "\n",
    "\n",
    "# Operation code -----------------------------------------------------------------------------------------------\n",
    "\n",
    "optimization.lattice_optimization(num_epoch, print_num, num_amp, num_posit, learning_rate, lattices_update, positions_update, positions, im_analyzed,\n",
    "                                 tf_im_analyzed, loss_array, tf_amplitude_init, tf_width_init, x_l, y_l, x_off_l, y_off_l, sliding_l, posit_pix_l, \n",
    "                                 atom_num_list, pad_size_list, x_update_step, y_update_step, row, col, len_pix, lattice_num,\n",
    "                                 base_dir, lattice_atom_positions_file_name, params_init_file_name, every_positions_init_file_name, \n",
    "                                 every_params_init_file_name, loss_file_name)\n",
    "\n",
    "    \n"
   ]
  },
  {
   "cell_type": "markdown",
   "id": "4e40a25c-ac30-4690-9734-e5aa832b2176",
   "metadata": {
    "jp-MarkdownHeadingCollapsed": true
   },
   "source": [
    "## Lattice optimization results"
   ]
  },
  {
   "cell_type": "code",
   "execution_count": null,
   "id": "2b78a000-5021-4589-a1ba-d00d508c5748",
   "metadata": {},
   "outputs": [],
   "source": [
    "# Run this code to see the optimized atomic positions and print out the optimized lattice information.\n",
    "\n",
    "# Load recent optimized lattice information\n",
    "\n",
    "lattice_atom_positions_file_name = \"lattice_atom_positions\" \n",
    "params_init_file_name = \"params_init\" \n",
    "every_positions_init_file_name = \"every_positions_init\" \n",
    "every_params_init_file_name = \"every_params_init\" \n",
    "\n",
    "\n",
    "# Operation code -----------------------------------------------------------------------------------------------\n",
    "\n",
    "# positions are the optimized positions. tfv_params is a tensor with the shape of (2, n), \n",
    "# where 2 is for amplitude and width, and n is the number of total atoms.\n",
    "# posit_pix_l is the optmized posit_pix. params is the optimized amplitude_pri and width_pri with the shape of (2, number of atom types).\n",
    "# atom_resolved_positions is the optimized atom_resolved_positions.\n",
    "\n",
    "positions, tfv_params, posit_pix_l, params, atom_resolved_positions = \\\n",
    "tools.Lattice_optimization_results(base_dir, lattice_atom_positions_file_name, params_init_file_name,every_positions_init_file_name, \n",
    "                                   every_params_init_file_name, lattice_num, atom_num_list, row, col, len_pix,  im_analyzed, pad_size_list)"
   ]
  },
  {
   "cell_type": "markdown",
   "id": "1073a62c-e1f0-45d7-9366-44b677007744",
   "metadata": {
    "jp-MarkdownHeadingCollapsed": true
   },
   "source": [
    "## Lattice optimization unit cell simulation"
   ]
  },
  {
   "cell_type": "code",
   "execution_count": null,
   "id": "594af505-f6c2-4d39-97f1-eff40b45c8bb",
   "metadata": {},
   "outputs": [],
   "source": [
    "# Run this code to simulate the average unit cell based on the optimization\n",
    "\n",
    "# load recent parameters file\n",
    "\n",
    "# unit_cell_pri is the 2d array of the unit cell simulated from the initial guess.\n",
    "# unit_cell_init is the 2d array of the unit cell simulated from optimized lattice parameters.\n",
    "\n",
    "unit_cell_pri = gf.Gaussian_draw_init(posit_pix, np.array([amplitude_pri, width_pri]), np.max(pad_size_list), sum_image.shape)\n",
    "unit_cell_init = gf.Gaussian_draw_init(posit_pix_l, params, np.max(pad_size_list), sum_image.shape)\n",
    "\n",
    "fig, ax = plt.subplots(1, 2)\n",
    "\n",
    "ax[0].imshow(unit_cell_pri, cmap = 'gray')\n",
    "ax[0].set_title(\"Initial guess\", pad = 10)\n",
    "\n",
    "for i in range(len(posit_pix)):\n",
    "\n",
    "    ax[0].scatter(posit_pix[i][:,0], posit_pix[i][:,1])\n",
    "\n",
    "ax[1].imshow(unit_cell_init, cmap = 'gray')\n",
    "ax[1].set_title(\"Lattice optimization\", pad = 10)\n",
    "\n",
    "for i in range(len(posit_pix_l)):\n",
    "\n",
    "    ax[1].scatter(posit_pix_l[i][:,0], posit_pix_l[i][:,1])\n"
   ]
  },
  {
   "cell_type": "markdown",
   "id": "73343064-2b00-45ba-8eb6-1acda1beb611",
   "metadata": {
    "jp-MarkdownHeadingCollapsed": true
   },
   "source": [
    "## Parameter initialization for free atom optimization"
   ]
  },
  {
   "cell_type": "code",
   "execution_count": null,
   "id": "57573a2d-872c-4345-afba-b384b4d35ef8",
   "metadata": {},
   "outputs": [],
   "source": [
    "# Load optimized lattice information\n",
    "\n",
    "positions_init_file_name = every_positions_init_file_name \n",
    "params_init_file_name = every_params_init_file_name\n",
    "\n",
    "\n",
    "# Operation code -----------------------------------------------------------------------------------------------\n",
    "\n",
    "\n",
    "positions = np.load(base_dir + positions_init_file_name +\".npy\")\n",
    "tfv_params = np.load(base_dir + params_init_file_name +\".npy\")\n",
    "\n",
    "positions_init = copy.deepcopy(positions)\n",
    "\n",
    "tfv_params = tf.Variable(tfv_params, dtype = tf.float32)\n",
    "tfv_params_init = copy.deepcopy(tfv_params)\n",
    "\n",
    "#loss_array = []\n"
   ]
  },
  {
   "cell_type": "markdown",
   "id": "812d1b6e-db61-45fa-ac77-7f4f375ed29d",
   "metadata": {
    "jp-MarkdownHeadingCollapsed": true
   },
   "source": [
    "## Free atom optimization"
   ]
  },
  {
   "cell_type": "code",
   "execution_count": null,
   "id": "2c650eba-fcc5-4264-accd-40c767883e29",
   "metadata": {},
   "outputs": [],
   "source": [
    "# Choose directories to save the optimized parameters \n",
    "\n",
    "positions_file_name = \"positions_file\"         # Optimized positions\n",
    "params_file_name = \"params_file\"              # Optimized Gaussain parameters\n",
    "loss_file_name = \"loss\"                        # Loss file\n",
    "\n",
    "num_epoch = 1                      # Number of sets of optimization \n",
    "num_amp = 1                        # Number of amplitude and width optimizations in a set\n",
    "num_posit = 1                      # Number of atomic positions optimization in a set\n",
    "\n",
    "print_num = 1                      # Number of sets to print loss out\n",
    "\n",
    "learning_rate = 0.01               \n",
    "\n",
    "gamma = 0                          # If this parameter is 1, optimization tends to escape from asymmetric peaks with a certain probability.\n",
    "                                   # If this parameter is 0, optimization just fits any peak with a Gaussian function regardless of its asymmetry.\n",
    "                                   # Can be chosen from 0 to 1. Recommend setting it to 0 unless an asymmetric peak should be highly avoided.\n",
    "\n",
    "reg_params = 0.01                  # This parameters keep the Gaussian parameters at the initial values for the stability                    \n",
    "reg_posits = 0.01                  # This parameters keep the positions at the initial values for the stability   \n",
    "                                # Gradually decrease reg_params and reg_positions to update the parameters in a stable way.\n",
    "                                   \n",
    "\n",
    "# Operation code -----------------------------------------------------------------------------------------------\n",
    "\n",
    "optimization.free_atom_optimization(num_epoch, print_num, num_amp, num_posit, learning_rate, gamma, reg_params, reg_posits, positions, tfv_params,\n",
    "                          positions_init, tfv_params_init, atom_num_list, pad_size_list, im_analyzed, tf_im_analyzed,\n",
    "                          base_dir, positions_file_name, params_file_name, loss_file_name, loss_array)\n"
   ]
  },
  {
   "cell_type": "markdown",
   "id": "ee952112-d9bf-4755-920a-b4e4efa56259",
   "metadata": {
    "jp-MarkdownHeadingCollapsed": true
   },
   "source": [
    "## Free atom optimization results"
   ]
  },
  {
   "cell_type": "code",
   "execution_count": null,
   "id": "e66e0867-0abc-4139-93ed-d8601dc249e2",
   "metadata": {},
   "outputs": [],
   "source": [
    "# Run this code to see the change in the lattice information and compare the TEM image and fitted image\n",
    "\n",
    "# load positions and params\n",
    "\n",
    "positions_file_name = \"positions_file\"\n",
    "params_file_name = \"params_file\"\n",
    "\n",
    "# positions and parameters are the arrays of optimized positions and Gaussian parameters with the shape of (2, n).\n",
    "# tfv_params is the tensor of params.\n",
    "# atom_resolved_positions is a list whose length is the number of atom types. Each element is the optimized set of positions of each atom type.\n",
    "\n",
    "positions, params, tfv_params, atom_resolved_positions = tools.free_atom_opmization_results(base_dir, positions_file_name, params_file_name, \n",
    "                                                                                            lattice_num, atom_num_list, pad_size_list, im_analyzed)\n"
   ]
  },
  {
   "cell_type": "markdown",
   "id": "fbef6bed-173e-42b1-bcf6-8a1606c30dab",
   "metadata": {
    "jp-MarkdownHeadingCollapsed": true
   },
   "source": [
    "## Cutting boundary row or col"
   ]
  },
  {
   "cell_type": "code",
   "execution_count": null,
   "id": "fc32c028-1c64-4beb-85a3-fbb97a37081c",
   "metadata": {},
   "outputs": [],
   "source": [
    "# Probably, boundary parts would not be well fitted. Cut those parts. \n",
    "# cut_row (cut_col) = n will cut n rows (cols) from each upper (left) and lower (right) boundaries. \n",
    "# Total number of cuts will be 2*n.\n",
    "\n",
    "cut_row = 0        \n",
    "cut_col = 0\n",
    "\n",
    "\n",
    "# Operation code -----------------------------------------------------------------------------------------------\n",
    "\n",
    "\n",
    "atom_resolved_params = tools.unpack_atom_type(params, lattice_num, atom_num_list)\n",
    "\n",
    "# cut_atom_positions and cut_atom_params are the cut versions of positions and params.\n",
    "\n",
    "cut_atom_positions, cut_atom_params = tools.boundary_cut(atom_resolved_positions, atom_resolved_params, row, col, cut_col = cut_col, cut_row = cut_row)\n",
    "\n",
    "row_cut_start = int(y*cut_row/len_pix)\n",
    "row_cut_end = im_analyzed.shape[0]-int(y*cut_row/len_pix)\n",
    "col_cut_start = int(x*cut_col/len_pix)\n",
    "col_cut_end = im_analyzed.shape[1]-int(x*cut_col/len_pix)\n",
    "\n",
    "plt.imshow(im_analyzed[row_cut_start:row_cut_end, \n",
    "             col_cut_start : col_cut_end], cmap = \"gray\")\n",
    "plt.title(\"Positions with optimized every single atom information\")\n",
    "\n",
    "for atom in range(len(atom_num_list)):\n",
    "    \n",
    "    plt.scatter(cut_atom_positions[atom][0,:] - col_cut_start, cut_atom_positions[atom][1,:]-row_cut_start, s = 10)\n",
    "\n",
    "fig, ax = plt.subplots(1, 2, figsize = (10, 5))\n",
    "\n",
    "ax[0].imshow(im_analyzed[row_cut_start:row_cut_end, \n",
    "             col_cut_start : col_cut_end], cmap = \"gray\")\n",
    "ax[0].set_title(\"Experimental image\")\n",
    "ax[1].imshow(gf.Gaussian_position(positions, params, atom_num_list, pad_size_list, im_analyzed.shape)[row_cut_start:row_cut_end, \n",
    "             col_cut_start : col_cut_end], cmap = \"gray\")\n",
    "ax[1].set_title(\"Fitted image\")\n",
    "\n",
    "cut_image = im_analyzed[row_cut_start:row_cut_end, col_cut_start : col_cut_end]\n",
    "cut_simul = gf.Gaussian_position(positions, params, atom_num_list, pad_size_list, im_analyzed.shape)[row_cut_start:row_cut_end, \n",
    "             col_cut_start : col_cut_end]"
   ]
  },
  {
   "cell_type": "markdown",
   "id": "34ec8332-0fab-4b49-9caa-5366b9aa32c2",
   "metadata": {
    "jp-MarkdownHeadingCollapsed": true
   },
   "source": [
    "## Average and standard deviation of Gaussain parameters"
   ]
  },
  {
   "cell_type": "code",
   "execution_count": null,
   "id": "aee6e66d-90a4-4357-86db-7122650204e8",
   "metadata": {},
   "outputs": [],
   "source": [
    "# The information will be saved in the directory below. The ratio is std/avg.\n",
    "\n",
    "average_std_gaussain_params_file_name = \"average_std_gaussain_params.txt\"\n",
    "\n",
    "\n",
    "# Operation code -----------------------------------------------------------------------------------------------\n",
    "\n",
    "\n",
    "atom_names = list(Atom_positions_dic.keys())\n",
    "\n",
    "average_amplitude = \"\"\n",
    "average_width = \"\"\n",
    "\n",
    "for i in range(len(atom_names)):\n",
    "\n",
    "    average_amplitude += (f\"{atom_names[i]}: avg amp = {np.mean(cut_atom_params[i][0]):.4g} \\\n",
    "std = {np.std(cut_atom_params[i][0]):.4g} (ratio : {np.std(cut_atom_params[i][0])/np.mean(cut_atom_params[i][0]):.4g})\\n\")\n",
    "\n",
    "    average_width += (f\"{atom_names[i]}: avg width = {np.mean(cut_atom_params[i][1]):.4g} \\\n",
    "std = {np.std(cut_atom_params[i][1]):.4g} (ratio : {np.std(cut_atom_params[i][1])/np.mean(cut_atom_params[i][1]):.4g})\\n\")\n",
    "\n",
    "average_std_gaussain_params = average_amplitude + \"\\n\\n\" +average_width\n",
    "\n",
    "print(average_std_gaussain_params)\n",
    "\n",
    "with open(base_dir + average_std_gaussain_params_file_name, \"w\") as file:\n",
    "    file.write(average_std_gaussain_params)\n",
    "\n",
    "    "
   ]
  },
  {
   "cell_type": "markdown",
   "id": "f7634120-caba-4882-b16f-fb1894e69d08",
   "metadata": {
    "jp-MarkdownHeadingCollapsed": true
   },
   "source": [
    "## Average atomic positions and weighted average atomic positions in unit cell"
   ]
  },
  {
   "cell_type": "code",
   "execution_count": null,
   "id": "c5b555e4-e6fe-41f1-9048-31ed716db481",
   "metadata": {},
   "outputs": [],
   "source": [
    "# The information will be saved in the directory below.\n",
    "\n",
    "average_atom_file_name = \"average_w_average_atom_posit_in.txt\"\n",
    "\n",
    "# This code will generate average atomic positions in the unit cell. The weighted average is (sum(amplitude*position)/sum(amplitude)), \n",
    "# which makes the position move toward the high-intensity positions\n",
    "\n",
    "\n",
    "# Operation code -----------------------------------------------------------------------------------------------\n",
    "\n",
    "atom_names = list(Atom_positions_dic.keys())\n",
    "\n",
    "# deep_unpacked_positions and deep_unpacked_params are lists, whose elements are the positions and params of each atom with different coordinates\n",
    "# in the unit cell.\n",
    "# a_pix_posit and a_params have the same type and shape as posit_pix, but they are filled with the average of optimized parameters.\n",
    "# wa_pix_posit and wa_params have the same type and shape as posit_pix, but they are filled with the weighted average of optimized parameters.\n",
    "# The positions information will be moved so that the first positions of wa_posit_pix or a_posit_pix are the same as that of posit_pix.\n",
    "\n",
    "\n",
    "deep_unpacked_positions, deep_unpacked_params = tools.deep_unpack(cut_atom_positions,cut_atom_params, atom_num_list)\n",
    "a_posit_pix, a_params = tools.weight_average_poist_pix(deep_unpacked_positions, deep_unpacked_params, atom_num_list, weight = False)\n",
    "wa_posit_pix, wa_params = tools.weight_average_poist_pix(deep_unpacked_positions, deep_unpacked_params, atom_num_list)\n",
    "\n",
    "average_atom = \"\"\n",
    "\n",
    "for i in range(len(atom_names)):\n",
    "\n",
    "    average_atom += f\"{atom_names[i]}: avg positions = \\n{a_posit_pix[i] + posit_pix_l[0][0] - a_posit_pix[0][0]}\\n\\n\"\n",
    "\n",
    "for i in range(len(atom_names)):\n",
    "\n",
    "    average_atom += f\"{atom_names[i]}: weighted avg positions = \\n{wa_posit_pix[i] + posit_pix_l[0][0] - wa_posit_pix[0][0]}\\n\\n\"\n",
    "\n",
    "for i in range(len(atom_names)):\n",
    "\n",
    "    average_atom += f\"{atom_names[i]}: avg Gaussian parameters = \\n{a_params[i]}\\n\\n\"\n",
    "\n",
    "\n",
    "print(average_atom)\n",
    "\n",
    "with open(base_dir + average_atom_file_name, \"w\") as file:\n",
    "    file.write(average_atom)\n",
    "    "
   ]
  },
  {
   "cell_type": "markdown",
   "id": "ff5c4749-9425-454e-b8b8-473218edc208",
   "metadata": {
    "jp-MarkdownHeadingCollapsed": true
   },
   "source": [
    "## Average unit cell and weighted average unit cell from free atom opimization"
   ]
  },
  {
   "cell_type": "code",
   "execution_count": null,
   "id": "02e76e24-4b5a-4826-81ee-fd3c6283fa4d",
   "metadata": {},
   "outputs": [],
   "source": [
    "resolution = 10      # image quality increases with this parameter\n",
    "\n",
    "# The information will be saved in the directory below. \n",
    "\n",
    "average_atom_file_name = \"average_w_average_atom_posit_in.txt\"\n",
    "\n",
    "\n",
    "# Operation code -----------------------------------------------------------------------------------------------\n",
    "\n",
    "# w_atom_im is a 2d array of the unit cell image with weighted average positions. w_atom_positions are the weighted average positions.\n",
    "# atom_im is a 2d array of the unit cell image with average positions. atom_positions are the average positions.\n",
    "\n",
    "w_atom_im, w_atom_positions = gf.Gaussian_draw_high_resol(wa_posit_pix, wa_params, sum_image.shape, posit_pix_l[0][0], resolution, np.max(pad_size_list))\n",
    "atom_im, atom_positions = gf.Gaussian_draw_high_resol(a_posit_pix, a_params, sum_image.shape, posit_pix_l[0][0], resolution, np.max(pad_size_list))\n",
    "\n",
    "# w_atom_resolved_positions is a list whose length is the number of atom types. The elements are the weighted average positions of each atom type.\n",
    "# a_atom_resolved_positions is a list whose length is the number of atom types. The elements are the average positions of each atom type.\n",
    "\n",
    "w_atom_resolved_positions = tools.unpack_atom_type(w_atom_positions, 1, atom_num_list)    \n",
    "a_atom_resolved_positions = tools.unpack_atom_type(atom_positions, 1, atom_num_list)        \n",
    "   \n",
    "fig, ax = plt.subplots(1, 2)\n",
    "\n",
    "plt.suptitle(\"Free atom optimization average unit cell\", y = 1.05)\n",
    "\n",
    "ax[0].imshow(atom_im, extent = [0, 22, 106, 0], cmap = \"gray\")\n",
    "ax[0].set_title(\"Avearge positions \\n w/o amplitude weight\", pad = 15)\n",
    "\n",
    "for i in range(len(a_atom_resolved_positions)):\n",
    "    ax[0].scatter(a_atom_resolved_positions[i][0], a_atom_resolved_positions[i][1])\n",
    "\n",
    "ax[1].imshow(w_atom_im, extent = [0, 22, 106, 0], cmap = \"gray\")\n",
    "ax[1].set_title(\"Avearge positions \\n w amplitude weight\", pad = 15)\n",
    "\n",
    "for i in range(len(a_atom_resolved_positions)):\n",
    "    ax[1].scatter(w_atom_resolved_positions[i][0], w_atom_resolved_positions[i][1])\n",
    "\n"
   ]
  }
 ],
 "metadata": {
  "kernelspec": {
   "display_name": "Python 3 (ipykernel)",
   "language": "python",
   "name": "python3"
  },
  "language_info": {
   "codemirror_mode": {
    "name": "ipython",
    "version": 3
   },
   "file_extension": ".py",
   "mimetype": "text/x-python",
   "name": "python",
   "nbconvert_exporter": "python",
   "pygments_lexer": "ipython3",
   "version": "3.10.15"
  }
 },
 "nbformat": 4,
 "nbformat_minor": 5
}
